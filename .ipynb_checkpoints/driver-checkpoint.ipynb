{
 "cells": [
  {
   "cell_type": "code",
   "execution_count": 5,
   "metadata": {
    "collapsed": true
   },
   "outputs": [],
   "source": [
    "%matplotlib inline\n",
    "\n",
    "\n",
    "import cPickle as pickle\n",
    "import lda\n",
    "import os\n",
    "from serial_lda_gibbs import LdaSampler\n",
    "from multicore_lda_gibbs import MulticoreLdaSampler\n",
    "from gpu_lda_gibbs import GPULdaSampler\n",
    "import time\n",
    "import numpy as np\n",
    "\n",
    "import matplotlib.pyplot as plt\n",
    "\n",
    "pickle_filepath = 'baseline_data.pickle'\n",
    "None"
   ]
  },
  {
   "cell_type": "code",
   "execution_count": 2,
   "metadata": {
    "collapsed": true
   },
   "outputs": [],
   "source": [
    "def load_reuters_dataset():\n",
    "    if not os.path.exists(pickle_filepath):\n",
    "        dump_reuters_dataset()\n",
    "    with open(pickle_filepath, 'r') as rfile:\n",
    "        X, vocab, titles = pickle.load(rfile)\n",
    "    return X, vocab, titles\n",
    "\n",
    "def dump_reuters_dataset():\n",
    "    X = lda.datasets.load_reuters()\n",
    "    vocab = lda.datasets.load_reuters_vocab()\n",
    "    titles = lda.datasets.load_reuters_titles()\n",
    "\n",
    "    with open(pickle_filepath, 'w') as wfile:\n",
    "        pickle.dump( (X, vocab, titles), wfile)\n"
   ]
  },
  {
   "cell_type": "code",
   "execution_count": 3,
   "metadata": {
    "collapsed": false
   },
   "outputs": [],
   "source": [
    "def serial_gibbs(X, k, iters=50, log=True):\n",
    "    sampler = LdaSampler(k)\n",
    "    start = time.time()\n",
    "    for it, phi in enumerate(sampler.run(X, maxiter=iters)):\n",
    "        if log:\n",
    "            print \"Iteration\", it\n",
    "            print \"Likelihood\", sampler.loglikelihood()\n",
    "        else:\n",
    "            i = it\n",
    "    end = time.time()\n",
    "    print 'Completed %d iterations in %.3f seconds (serial)' % (iters, end - start)\n",
    "    return sampler\n",
    "\n",
    "\n",
    "def multicore_gibbs(X, k, p, iters=50, log=True):\n",
    "    sampler = MulticoreLdaSampler(k, p)\n",
    "    start = time.time()\n",
    "    for it, phi in enumerate(sampler.run(X, maxiter=iters)):\n",
    "        if log:\n",
    "            print \"Iteration\", it\n",
    "            print \"Likelihood\", sampler.loglikelihood()\n",
    "        else:\n",
    "            i = it\n",
    "    end = time.time()\n",
    "    print 'Completed %d iterations in %.3f seconds (P=%d)' % (iters, end - start, p)\n",
    "    return sampler"
   ]
  },
  {
   "cell_type": "code",
   "execution_count": 4,
   "metadata": {
    "collapsed": false
   },
   "outputs": [],
   "source": [
    "#https://archive.ics.uci.edu/ml/datasets/Bag+of+Words\n",
    "def load(dataset):\n",
    "    files = {\n",
    "        'nips': 'docword.nips.txt', \n",
    "        'nytimes': 'docwords.nytimes.txt',\n",
    "    }\n",
    "    if dataset == 'reuters':\n",
    "        return load_reuters_dataset()\n",
    "    elif dataset in files: \n",
    "        with open(files[dataset], 'r') as rfile:\n",
    "            lines = rfile.readlines()\n",
    "        n_documents = int(lines[0])\n",
    "        n_words = int(lines[1])\n",
    "        X = np.zeros((n_documents, n_words))\n",
    "        data = map(lambda s: map(int, s.split()), lines[3:])\n",
    "        for doc, word, count in data:\n",
    "            X[doc-1][word-1] = count\n",
    "        return X\n",
    "    else:\n",
    "        raise Exception ('Dataset %s not found' % dataset)\n"
   ]
  },
  {
   "cell_type": "code",
   "execution_count": 13,
   "metadata": {
    "collapsed": true
   },
   "outputs": [
    {
     "name": "stdout",
     "output_type": "stream",
     "text": [
      "Sampled in 0.104 seconds\n",
      "Updated in 0.001 seconds\n",
      "Sampled in 0.073 seconds\n",
      "Updated in 0.001 seconds\n",
      "Sampled in 0.083 seconds\n",
      "Updated in 0.001 seconds\n",
      "Sampled in 0.085 seconds\n",
      "Updated in 0.001 seconds\n",
      "Sampled in 0.084 seconds\n",
      "Updated in 0.001 seconds\n",
      "Sampled in 0.086 seconds\n",
      "Updated in 0.002 seconds\n",
      "Sampled in 0.096 seconds\n",
      "Updated in 0.001 seconds\n",
      "Sampled in 0.088 seconds\n",
      "Updated in 0.002 seconds\n",
      "Sampled in 0.081 seconds\n",
      "Updated in 0.002 seconds\n",
      "Sampled in 0.081 seconds\n",
      "Updated in 0.001 seconds\n",
      "Sampled in 0.082 seconds\n",
      "Updated in 0.001 seconds\n",
      "Sampled in 0.085 seconds\n",
      "Updated in 0.002 seconds\n",
      "Sampled in 0.079 seconds\n",
      "Updated in 0.001 seconds\n",
      "Sampled in 0.085 seconds\n",
      "Updated in 0.001 seconds\n",
      "Sampled in 0.096 seconds\n",
      "Updated in 0.002 seconds\n",
      "Sampled in 0.101 seconds\n",
      "Updated in 0.001 seconds\n",
      "Sampled in 0.098 seconds\n",
      "Updated in 0.002 seconds\n",
      "Sampled in 0.093 seconds\n",
      "Updated in 0.001 seconds\n",
      "Sampled in 0.081 seconds\n",
      "Updated in 0.001 seconds\n",
      "Sampled in 0.078 seconds\n",
      "Updated in 0.001 seconds\n",
      "Sampled in 0.081 seconds\n",
      "Updated in 0.001 seconds\n",
      "Sampled in 0.081 seconds\n",
      "Updated in 0.001 seconds\n",
      "Sampled in 0.081 seconds\n",
      "Updated in 0.001 seconds\n",
      "Sampled in 0.080 seconds\n",
      "Updated in 0.001 seconds\n",
      "Sampled in 0.082 seconds\n",
      "Updated in 0.001 seconds\n",
      "Sampled in 0.082 seconds\n",
      "Updated in 0.001 seconds\n",
      "Sampled in 0.081 seconds\n",
      "Updated in 0.001 seconds\n",
      "Sampled in 0.076 seconds\n",
      "Updated in 0.001 seconds\n",
      "Sampled in 0.092 seconds\n",
      "Updated in 0.001 seconds\n",
      "Sampled in 0.080 seconds\n",
      "Updated in 0.001 seconds\n",
      "Sampled in 0.083 seconds\n",
      "Updated in 0.001 seconds\n",
      "Sampled in 0.077 seconds\n",
      "Updated in 0.001 seconds\n",
      "Sampled in 0.076 seconds\n",
      "Updated in 0.001 seconds\n",
      "Sampled in 0.078 seconds\n",
      "Updated in 0.001 seconds\n",
      "Sampled in 0.081 seconds\n",
      "Updated in 0.001 seconds\n",
      "Sampled in 0.080 seconds\n",
      "Updated in 0.001 seconds\n",
      "Sampled in 0.081 seconds\n",
      "Updated in 0.001 seconds\n",
      "Sampled in 0.090 seconds\n",
      "Updated in 0.002 seconds\n",
      "Sampled in 0.103 seconds\n",
      "Updated in 0.001 seconds\n",
      "Sampled in 0.098 seconds\n",
      "Updated in 0.001 seconds\n",
      "Sampled in 0.100 seconds\n",
      "Updated in 0.001 seconds\n",
      "Sampled in 0.096 seconds\n",
      "Updated in 0.001 seconds\n",
      "Sampled in 0.097 seconds\n",
      "Updated in 0.001 seconds\n",
      "Sampled in 0.096 seconds\n",
      "Updated in 0.001 seconds\n",
      "Sampled in 0.093 seconds\n",
      "Updated in 0.001 seconds\n",
      "Sampled in 0.087 seconds\n",
      "Updated in 0.002 seconds\n",
      "Sampled in 0.087 seconds\n",
      "Updated in 0.001 seconds\n",
      "Sampled in 0.079 seconds\n",
      "Updated in 0.001 seconds\n",
      "Sampled in 0.075 seconds\n",
      "Updated in 0.001 seconds\n",
      "Sampled in 0.075 seconds\n",
      "Updated in 0.001 seconds\n",
      "Completed 50 iterations in 4.419 seconds (P=4)\n",
      "Sampled in 0.112 seconds\n",
      "Iteration 0\n",
      "Likelihood -15857.7077052\n",
      "Sampled in 0.099 seconds\n",
      "Iteration 1\n",
      "Likelihood -14875.2910269\n",
      "Sampled in 0.099 seconds\n",
      "Iteration 2\n",
      "Likelihood -14458.9016905\n",
      "Sampled in 0.099 seconds\n",
      "Iteration 3\n",
      "Likelihood -14332.4570653\n",
      "Sampled in 0.095 seconds\n",
      "Iteration 4\n",
      "Likelihood -14180.5523546\n",
      "Sampled in 0.095 seconds\n",
      "Iteration 5\n",
      "Likelihood -14064.5406805\n",
      "Sampled in 0.095 seconds\n",
      "Iteration 6\n",
      "Likelihood -13988.1877453\n",
      "Sampled in 0.095 seconds\n",
      "Iteration 7\n",
      "Likelihood -13922.8661419\n",
      "Sampled in 0.101 seconds\n",
      "Iteration 8\n",
      "Likelihood -13768.8702885\n",
      "Sampled in 0.102 seconds\n",
      "Iteration 9\n",
      "Likelihood -13773.950658\n",
      "Sampled in 0.099 seconds\n",
      "Iteration 10\n",
      "Likelihood -13638.3226449\n",
      "Sampled in 0.095 seconds\n",
      "Iteration 11\n",
      "Likelihood -13497.35056\n",
      "Sampled in 0.099 seconds\n",
      "Iteration 12\n",
      "Likelihood -13482.5866049\n",
      "Sampled in 0.097 seconds\n",
      "Iteration 13\n",
      "Likelihood -13458.4882055\n",
      "Sampled in 0.095 seconds\n",
      "Iteration 14\n",
      "Likelihood -13396.6858331\n",
      "Sampled in 0.096 seconds\n",
      "Iteration 15\n",
      "Likelihood -13324.9180787\n",
      "Sampled in 0.096 seconds\n",
      "Iteration 16\n",
      "Likelihood -13312.7695417\n",
      "Sampled in 0.096 seconds\n",
      "Iteration 17\n",
      "Likelihood -13279.1437937\n",
      "Sampled in 0.100 seconds\n",
      "Iteration 18\n",
      "Likelihood -13304.0941422\n",
      "Sampled in 0.105 seconds\n",
      "Iteration 19\n",
      "Likelihood -13260.1503704\n",
      "Sampled in 0.098 seconds\n",
      "Iteration 20\n",
      "Likelihood -13226.9183458\n",
      "Sampled in 0.101 seconds\n",
      "Iteration 21\n",
      "Likelihood -13183.4974752\n",
      "Sampled in 0.101 seconds\n",
      "Iteration 22\n",
      "Likelihood -13188.5407799\n",
      "Sampled in 0.097 seconds\n",
      "Iteration 23\n",
      "Likelihood -13314.478149\n",
      "Sampled in 0.098 seconds\n",
      "Iteration 24\n",
      "Likelihood -13272.8627181\n",
      "Sampled in 0.102 seconds\n",
      "Iteration 25\n",
      "Likelihood -13277.5602098\n",
      "Sampled in 0.098 seconds\n",
      "Iteration 26\n",
      "Likelihood -13226.7292744\n",
      "Sampled in 0.102 seconds\n",
      "Iteration 27\n",
      "Likelihood -13259.2433883\n",
      "Sampled in 0.099 seconds\n",
      "Iteration 28\n",
      "Likelihood -13269.9079981\n",
      "Sampled in 0.101 seconds\n",
      "Iteration 29\n",
      "Likelihood -13064.4249629\n",
      "Sampled in 0.097 seconds\n",
      "Iteration 30\n",
      "Likelihood -13145.2196484\n",
      "Sampled in 0.097 seconds\n",
      "Iteration 31\n",
      "Likelihood -13026.9415209\n",
      "Sampled in 0.096 seconds\n",
      "Iteration 32\n",
      "Likelihood -13128.7848215\n",
      "Sampled in 0.096 seconds\n",
      "Iteration 33\n",
      "Likelihood -13099.5580505\n",
      "Sampled in 0.101 seconds\n",
      "Iteration 34\n",
      "Likelihood -13119.2338009\n",
      "Sampled in 0.098 seconds\n",
      "Iteration 35\n",
      "Likelihood -13168.8145628\n",
      "Sampled in 0.106 seconds\n",
      "Iteration 36\n",
      "Likelihood -13014.2403157\n",
      "Sampled in 0.097 seconds\n",
      "Iteration 37\n",
      "Likelihood -13036.3708275\n",
      "Sampled in 0.097 seconds\n",
      "Iteration 38\n",
      "Likelihood -12954.3760752\n",
      "Sampled in 0.104 seconds\n",
      "Iteration 39\n",
      "Likelihood -12878.5184309\n",
      "Sampled in 0.101 seconds\n",
      "Iteration 40\n",
      "Likelihood -12706.6178686\n",
      "Sampled in 0.099 seconds\n",
      "Iteration 41\n",
      "Likelihood -12562.8090445\n",
      "Sampled in 0.102 seconds\n",
      "Iteration 42\n",
      "Likelihood -12654.4606107\n",
      "Sampled in 0.097 seconds\n",
      "Iteration 43\n",
      "Likelihood -12591.541436\n",
      "Sampled in 0.103 seconds\n",
      "Iteration 44\n",
      "Likelihood -12499.1110839\n",
      "Sampled in 0.098 seconds\n",
      "Iteration 45\n",
      "Likelihood -12404.1617216\n",
      "Sampled in 0.103 seconds\n",
      "Iteration 46\n",
      "Likelihood -12310.2722361\n",
      "Sampled in 0.101 seconds\n",
      "Iteration 47\n",
      "Likelihood -12293.3412703\n",
      "Sampled in 0.096 seconds\n",
      "Iteration 48\n",
      "Likelihood -12260.9774484\n",
      "Sampled in 0.099 seconds\n",
      "Iteration 49\n",
      "Likelihood -12215.3672964\n",
      "Completed 50 iterations in 5.160 seconds (serial)\n"
     ]
    }
   ],
   "source": [
    "# data = load_reuters_dataset()[0]\n",
    "data = np.ones((50, 50))\n",
    "sampler = multicore_gibbs(data, 10, 4,iters=50, log=False)\n",
    "serial_sampler = serial_gibbs(data, 10, 50)"
   ]
  },
  {
   "cell_type": "code",
   "execution_count": 17,
   "metadata": {
    "collapsed": false
   },
   "outputs": [
    {
     "data": {
      "text/plain": [
       "(4.358684778213501, 4.9543662071228027)"
      ]
     },
     "execution_count": 17,
     "metadata": {},
     "output_type": "execute_result"
    }
   ],
   "source": [
    "np.sum(sampler.sample_times) + np.sum(sampler.update_times), np.sum(serial_sampler.sample_times)"
   ]
  },
  {
   "cell_type": "code",
   "execution_count": null,
   "metadata": {
    "collapsed": true
   },
   "outputs": [],
   "source": [
    "### serial_gibbs(load('nips'), 10, 16)\n",
    "times = {}\n",
    "likelihoods = {}\n",
    "data = load('nips') #load_reuters_dataset()[0]\n",
    "k = 20\n",
    "iters = 10\n",
    "\n",
    "sampler = serial_gibbs(data, k, iters=50, log=False)\n",
    "times[0] = np.mean(sampler.sample_times)\n",
    "likelihoods[0] = sampler.loglikelihood()\n",
    "for p in [1,2,4,8,16]:\n",
    "    sampler = multicore_gibbs(data, k, p,iters=50, log=False)\n",
    "    times[p] = np.mean(sampler.sample_times) + np.mean(sampler.update_times)\n",
    "    likelihoods[p] = sampler.loglikelihood()\n"
   ]
  },
  {
   "cell_type": "code",
   "execution_count": 7,
   "metadata": {
    "collapsed": false,
    "scrolled": true
   },
   "outputs": [
    {
     "data": {
      "image/png": "[encoded data removed]",
      "text/plain": [
       "<matplotlib.figure.Figure at 0x10809bcd0>"
      ]
     },
     "metadata": {},
     "output_type": "display_data"
    }
   ],
   "source": [
    "x, y = map(list, zip(*times.items()))\n",
    "x[0] = 'Serial Implementation'\n",
    "x[1:] = map(lambda p: 'Multicore Implementation (P=%d)' % p, x[1:])\n",
    "y = map(abs, y)\n",
    "\n",
    "fig = plt.figure()\n",
    "width = .75\n",
    "ind = np.arange(len(y))\n",
    "plt.bar(ind[0], y[0], color='firebrick')\n",
    "plt.bar(ind[1:], y[1:], color='steelblue')\n",
    "\n",
    "plt.xticks(ind + width / 2, x)\n",
    "plt.title('Multicore Gibbs Sampling Performance')\n",
    "plt.ylabel('Mean per sample (seconds)')\n",
    "fig.autofmt_xdate()\n",
    "fig.set_size_inches(10, 8)\n",
    "\n",
    "plt.show()"
   ]
  },
  {
   "cell_type": "code",
   "execution_count": 8,
   "metadata": {
    "collapsed": false
   },
   "outputs": [
    {
     "data": {
      "image/png": "[encoded data removed]",
      "text/plain": [
       "<matplotlib.figure.Figure at 0x10809b490>"
      ]
     },
     "metadata": {},
     "output_type": "display_data"
    }
   ],
   "source": [
    "x, y = map(list, zip(*likelihoods.items()))\n",
    "x[0] = 'Serial Implementation'\n",
    "x[1:] = map(lambda p: 'Multicore Implementation (P=%d)' % p, x[1:])\n",
    "y = map(abs, y)\n",
    "\n",
    "fig = plt.figure()\n",
    "width = .75\n",
    "ind = np.arange(len(y))\n",
    "plt.bar(ind, y, color='steelblue')\n",
    "\n",
    "plt.xticks(ind + width / 2, x)\n",
    "plt.title('Multicore Gibbs Sampling Negative Log-Likelihood')\n",
    "plt.ylabel('NLL')\n",
    "fig.autofmt_xdate()\n",
    "fig.set_size_inches(10, 8)\n",
    "\n",
    "plt.show()"
   ]
  },
  {
   "cell_type": "code",
   "execution_count": 9,
   "metadata": {
    "collapsed": false
   },
   "outputs": [
    {
     "name": "stdout",
     "output_type": "stream",
     "text": [
      "0 64.8628925943 -16030419.5681\n",
      "1 191.878400145 -16038560.3105\n",
      "2 99.7045197487 -16035880.7056\n",
      "4 53.9036721992 -16056161.6568\n",
      "8 50.1141946554 -16016469.2268\n",
      "16 51.3417273712 -16098083.2043\n"
     ]
    }
   ],
   "source": [
    "for p, t in times.items():\n",
    "    print p, abs(t), likelihoods[p]"
   ]
  },
  {
   "cell_type": "code",
   "execution_count": 1,
   "metadata": {
    "collapsed": true
   },
   "outputs": [],
   "source": []
  },
  {
   "cell_type": "code",
   "execution_count": 2,
   "metadata": {
    "collapsed": true
   },
   "outputs": [],
   "source": []
  },
  {
   "cell_type": "code",
   "execution_count": 3,
   "metadata": {
    "collapsed": false
   },
   "outputs": [
    {
     "ename": "NameError",
     "evalue": "global name 'np' is not defined",
     "output_type": "error",
     "traceback": [
      "\u001b[0;31m---------------------------------------------------------------------------\u001b[0m",
      "\u001b[0;31mNameError\u001b[0m                                 Traceback (most recent call last)",
      "\u001b[0;32m<ipython-input-3-ea594c21b25d>\u001b[0m in \u001b[0;36m<module>\u001b[0;34m()\u001b[0m\n\u001b[0;32m----> 1\u001b[0;31m \u001b[0mtest\u001b[0m\u001b[0;34m(\u001b[0m\u001b[0;34m)\u001b[0m\u001b[0;34m\u001b[0m\u001b[0m\n\u001b[0m",
      "\u001b[0;32m<ipython-input-2-d3c12f24a578>\u001b[0m in \u001b[0;36mtest\u001b[0;34m()\u001b[0m\n\u001b[1;32m      1\u001b[0m \u001b[0;32mdef\u001b[0m \u001b[0mtest\u001b[0m\u001b[0;34m(\u001b[0m\u001b[0;34m)\u001b[0m\u001b[0;34m:\u001b[0m\u001b[0;34m\u001b[0m\u001b[0m\n\u001b[0;32m----> 2\u001b[0;31m     \u001b[0mX\u001b[0m \u001b[0;34m=\u001b[0m \u001b[0;34m(\u001b[0m\u001b[0mnp\u001b[0m\u001b[0;34m.\u001b[0m\u001b[0mrandom\u001b[0m\u001b[0;34m.\u001b[0m\u001b[0mrand\u001b[0m\u001b[0;34m(\u001b[0m\u001b[0;36m100\u001b[0m\u001b[0;34m,\u001b[0m \u001b[0;36m10\u001b[0m\u001b[0;34m)\u001b[0m \u001b[0;34m*\u001b[0m \u001b[0;36m10\u001b[0m\u001b[0;34m)\u001b[0m\u001b[0;34m.\u001b[0m\u001b[0mastype\u001b[0m\u001b[0;34m(\u001b[0m\u001b[0mnp\u001b[0m\u001b[0;34m.\u001b[0m\u001b[0mint32\u001b[0m\u001b[0;34m)\u001b[0m\u001b[0;34m\u001b[0m\u001b[0m\n\u001b[0m\u001b[1;32m      3\u001b[0m     \u001b[0;31m# X, vocab, titles = load_reuters_dataset()\u001b[0m\u001b[0;34m\u001b[0m\u001b[0;34m\u001b[0m\u001b[0m\n\u001b[1;32m      4\u001b[0m     \u001b[0;31m# X, vocab, titles = X[0:10,0:800], vocab[0:4000], titles[0:200]\u001b[0m\u001b[0;34m\u001b[0m\u001b[0;34m\u001b[0m\u001b[0m\n\u001b[1;32m      5\u001b[0m \u001b[0;34m\u001b[0m\u001b[0m\n",
      "\u001b[0;31mNameError\u001b[0m: global name 'np' is not defined"
     ]
    }
   ],
   "source": [
    "x, y = map(list, zip(*times.items()))\n",
    "x[0] = 'Serial Implementation'\n",
    "x[1:] = map(lambda p: 'Multicore Implementation (P=%d)' % p, x[1:])\n",
    "y = map(abs, y)\n",
    "\n",
    "fig = plt.figure()\n",
    "width = .75\n",
    "ind = np.arange(len(y))\n",
    "plt.bar(ind[0], y[0], color='firebrick')\n",
    "plt.bar(ind[1:], y[1:], color='steelblue')\n",
    "\n",
    "plt.xticks(ind + width / 2, x)\n",
    "plt.title('Multicore Gibbs Sampling Performance')\n",
    "plt.ylabel('Mean per sample (seconds)')\n",
    "fig.autofmt_xdate()\n",
    "fig.set_size_inches(10, 8)\n",
    "\n",
    "plt.show()\n"
   ]
  },
  {
   "cell_type": "code",
   "execution_count": 3,
   "metadata": {
    "collapsed": false
   },
   "outputs": [
    {
     "data": {
      "text/plain": [
       "True"
      ]
     },
     "execution_count": 3,
     "metadata": {},
     "output_type": "execute_result"
    }
   ],
   "source": [
    "'5'.isdigit()"
   ]
  },
  {
   "cell_type": "code",
   "execution_count": 18,
   "metadata": {
    "collapsed": false
   },
   "outputs": [
    {
     "data": {
      "image/png": "[encoded data removed]",
      "text/plain": [
       "<matplotlib.figure.Figure at 0x108bbf550>"
      ]
     },
     "metadata": {},
     "output_type": "display_data"
    }
   ],
   "source": [
    "results = {'GPU (P = 2)': 7.520579099655151, 'Multicore (P = 20)': 55.44355797767639, 'GPU (P = 1)': 12.937780141830444, 'GPU (P = 10)': 4.2181010246276855, 'Multicore (P = 5)': 61.20436501502991, 'Multicore (P = 30)': 61.438929080963135, 'GPU (P = 5)': 4.9176740646362305, 'GPU (P = 30)': 4.710564136505127, 'Multicore (P = 10)': 55.15399694442749, 'Serial': 99.8538269996643, 'Multicore (P = 2)': 117.48936414718628, 'GPU (P = 20)': 4.650667190551758, 'Multicore (P = 1)': 233.62364792823792}\n",
    "fig = plt.figure()\n",
    "fig.set_size_inches(10, 8)\n",
    "\n",
    "get_p = lambda s: int(''.join([c for c in s if c.isdigit()]))\n",
    "gpu_results = sorted([(get_p(k), v) for k, v in results.items() if 'GPU' in k], key=lambda x: x[0])\n",
    "multiscore_results = sorted([(get_p(k), v) for k, v in results.items() if 'Multicore' in k], key=lambda x: x[0])\n",
    "plt.plot(map(lambda x: x[0], gpu_results), map(lambda x: x[1]/100., gpu_results),'o-', label = 'GPU')\n",
    "plt.plot(map(lambda x: x[0], multiscore_results), map(lambda x: x[1]/100., multiscore_results), 'o-', label='Multiprocessing')\n",
    "plt.plot([1], [results['Serial'] /100.], 'o', label='Serial')\n",
    "plt.legend()\n",
    "plt.xlabel('Number of Processes')\n",
    "plt.ylabel('Time per iteration')\n",
    "plt.show()"
   ]
  },
  {
   "cell_type": "code",
   "execution_count": 11,
   "metadata": {
    "collapsed": false
   },
   "outputs": [
    {
     "data": {
      "text/plain": [
       "99.8538269996643"
      ]
     },
     "execution_count": 11,
     "metadata": {},
     "output_type": "execute_result"
    }
   ],
   "source": [
    "results['Serial']"
   ]
  },
  {
   "cell_type": "code",
   "execution_count": 20,
   "metadata": {
    "collapsed": true
   },
   "outputs": [],
   "source": [
    "results = {'Serial': 150.93098402023315,\n",
    "           'GPU (P = 1)': 1.6696398258209229,\n",
    "           'GPU (P = 2)': 1.4002900123596191, \n",
    "           'GPU (P = 5)': 1.4633350372314453,             \n",
    "           'GPU (P = 10)': 1.3562939167022705, \n",
    "           'GPU (P = 20)': 2.0672731399536133, \n",
    "           'GPU (P = 30)': 2.2405288219451904, \n",
    "           'Multicore (P = 1)': 340.6663820743561,\n",
    "           'Multicore (P = 2)': 231.6063449382782,\n",
    "           'Multicore (P = 5)': 187.2645070552826, \n",
    "           'Multicore (P = 10)': 203.77246499061584, \n",
    "           'Multicore (P = 20)': 181.55844116210938,\n",
    "           'Multicore (P = 30)': 217.81947302818298}\n"
   ]
  },
  {
   "cell_type": "code",
   "execution_count": 26,
   "metadata": {
    "collapsed": false
   },
   "outputs": [
    {
     "data": {
      "text/plain": [
       "['GPU (P = 1)',\n",
       " 'GPU (P = 10)',\n",
       " 'GPU (P = 2)',\n",
       " 'GPU (P = 20)',\n",
       " 'GPU (P = 30)',\n",
       " 'GPU (P = 5)',\n",
       " 'Multicore (P = 1)',\n",
       " 'Multicore (P = 10)',\n",
       " 'Multicore (P = 2)',\n",
       " 'Multicore (P = 20)',\n",
       " 'Multicore (P = 30)',\n",
       " 'Multicore (P = 5)',\n",
       " 'Serial']"
      ]
     },
     "execution_count": 26,
     "metadata": {},
     "output_type": "execute_result"
    }
   ],
   "source": [
    "x, y = map(list, zip(*results.items()))\n",
    "sorted(x)"
   ]
  },
  {
   "cell_type": "code",
   "execution_count": 28,
   "metadata": {
    "collapsed": false
   },
   "outputs": [
    {
     "data": {
      "image/png": "[encoded data removed]",
      "text/plain": [
       "<matplotlib.figure.Figure at 0x7f43755bab90>"
      ]
     },
     "metadata": {},
     "output_type": "display_data"
    }
   ],
   "source": [
    "x, y = map(list, zip(*results.items()))\n",
    "x, y = zip(*sorted(zip(x, y)))\n",
    "# x[0] = 'Serial Implementation'\n",
    "x[:] = map(lambda p: '%s' % p, x)\n",
    "y = map(abs, y)\n",
    "\n",
    "fig = plt.figure()\n",
    "width = .75\n",
    "ind = np.arange(len(y))\n",
    "plt.bar(ind[0], y[0], color='firebrick')\n",
    "plt.bar(ind[1:], y[1:], color='steelblue')\n",
    "\n",
    "plt.xticks(ind + width / 2, x)\n",
    "plt.title('Multicore Gibbs Sampling Performance')\n",
    "plt.ylabel('Mean per sample (seconds)')\n",
    "fig.autofmt_xdate()\n",
    "fig.set_size_inches(10, 8)\n",
    "\n",
    "plt.show()"
   ]
  },
  {
   "cell_type": "code",
   "execution_count": null,
   "metadata": {
    "collapsed": true
   },
   "outputs": [],
   "source": []
  }
 ],
 "metadata": {
  "kernelspec": {
   "display_name": "Python 2",
   "language": "python",
   "name": "python2"
  },
  "language_info": {
   "codemirror_mode": {
    "name": "ipython",
    "version": 2
   },
   "file_extension": ".py",
   "mimetype": "text/x-python",
   "name": "python",
   "nbconvert_exporter": "python",
   "pygments_lexer": "ipython2",
   "version": "2.7.6"
  }
 },
 "nbformat": 4,
 "nbformat_minor": 0
}
